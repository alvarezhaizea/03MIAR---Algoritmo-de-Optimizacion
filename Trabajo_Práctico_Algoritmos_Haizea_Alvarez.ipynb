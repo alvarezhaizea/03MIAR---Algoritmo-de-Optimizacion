{
  "nbformat": 4,
  "nbformat_minor": 0,
  "metadata": {
    "colab": {
      "provenance": [],
      "include_colab_link": true
    },
    "kernelspec": {
      "name": "python3",
      "display_name": "Python 3"
    }
  },
  "cells": [
    {
      "cell_type": "markdown",
      "metadata": {
        "id": "view-in-github",
        "colab_type": "text"
      },
      "source": [
        "<a href=\"https://colab.research.google.com/github/alvarezhaizea/03MIAR---Algoritmo-de-Optimizacion/blob/main/Trabajo_Pr%C3%A1ctico_Algoritmos_Haizea_Alvarez.ipynb\" target=\"_parent\"><img src=\"https://colab.research.google.com/assets/colab-badge.svg\" alt=\"Open In Colab\"/></a>"
      ]
    },
    {
      "cell_type": "markdown",
      "metadata": {
        "id": "hVbXYX-RfPWh"
      },
      "source": [
        "# Algoritmos de optimización - Trabajo Práctico<br>\n",
        "Nombre y Apellidos: Haizea Alvarez Merino  <br>\n",
        "Url: https://github.com/alvarezhaizea/03MIAR---Algoritmo-de-Optimizacion/blob/main/Trabajo_Pr%C3%A1ctico_Algoritmos_Haizea_Alvarez.ipynb <br>\n",
        "Google Colab: https://colab.research.google.com/drive/1MRJfQgLxvc4_dQdtgZPbuT6T-FqAHngb <br>\n",
        "\n",
        "**Problema:**\n",
        ">1. Sesiones de doblaje <br>\n",
        "\n",
        "**Descripción del problema:**\n",
        "\n",
        "Se precisa coordinar el doblaje de una película. Los actores del doblaje deben coincidir en las\n",
        "tomas en las que sus personajes aparecen juntos en las diferentes tomas. Los actores de\n",
        "doblaje cobran todos la misma cantidad por cada día que deben desplazarse hasta el estudio de\n",
        "grabación independientemente del número de tomas que se graben. No es posible grabar más\n",
        "de 6 tomas por día. El objetivo es planificar las sesiones por día de manera que el gasto por los\n",
        "servicios de los actores de doblaje sea el menor posible.\n",
        "\n",
        "\n",
        "\n",
        "\n",
        "\n",
        "\n",
        "\n",
        "                                        "
      ]
    },
    {
      "cell_type": "markdown",
      "source": [
        "#Modelo"
      ],
      "metadata": {
        "id": "Sbo9IqQtpaHZ"
      }
    },
    {
      "cell_type": "markdown",
      "source": [
        " **¿Como represento el espacio de soluciones?**\n",
        "\n",
        "He utilizado el algoritmo genético para resolver el problema de asignación de tomas a los días de doblaje. El espacio de soluciones se representa como una población de individuos, donde cada individuo es una lista que está compuesto por diferentes sublistas, en el que cada una de las listas representan un día de dobalje y los valores dentro de estas sublistas las tomas asignadas a ese día."
      ],
      "metadata": {
        "id": "67p_vszBposu"
      }
    },
    {
      "cell_type": "markdown",
      "source": [
        "**¿Cual es la función objetivo?**\n",
        "\n",
        "La función objetivo a minimizar es el coste total del doblaje por los servicios de los actos. El coste se define como distancia en el código dentro de la función *evaluar_poblacion*.\n",
        "\n",
        "En este caso, la distancia representa la cantidad de días en los que un actor debe grabar, penalizando aquellas soluciones en las que los actores trabajan en demasiados días.\n",
        "\n",
        "\n",
        "Por lo tanto, la función objetivo se define como:\n",
        "\n",
        "$$\n",
        "\\min d = \\sum_{i=1}^{n} d_i X_i\n",
        "$$\n",
        "\n",
        "Donde:  \n",
        "- $d$ es la distancia total a minimizar.  \n",
        "- $d_i$ es el coste total del actor $i$.  \n",
        "- $X_i$ hace referencia al actor $i$.  "
      ],
      "metadata": {
        "id": "LnXAOc5TEPp9"
      }
    },
    {
      "cell_type": "markdown",
      "source": [
        "**¿Como implemento las restricciones?**\n",
        "\n",
        "Las restricciones que hemos tenido en cuenta son las siguientes:\n",
        "1. Cada toma aparece solo una vez por individuo y todas las tomas se tienen que grabar durante el rodaje.\n",
        "2. Cada día tiene máximo 6 tomas.\n",
        "\n",
        "Por un lado, la primera restricción se controla durante la generación de los individuos mediante el cruce, y se realiza un segundo control al asignar las distancias a cada individuo. De esta forma, los individuos que no cumplan con esta restricción tendrán un mayor peso.\n",
        "\n",
        "Por otro lado, la segunda restricción se controla desde el inicio, ya que la población inicial se crea teniendo en cuenta esta restricción y la longitud de las sublistas no se modifica en ningún momento."
      ],
      "metadata": {
        "id": "H8Ode7tREEUO"
      }
    },
    {
      "cell_type": "markdown",
      "source": [
        "#Análisis"
      ],
      "metadata": {
        "id": "HZz52wOppp-U"
      }
    },
    {
      "cell_type": "markdown",
      "source": [
        "**¿Que complejidad tiene el problema?. Orden de complejidad y Contabilizar el espacio de soluciones**\n",
        "\n",
        "La complejidad del problema es difícil de cuantificar. Pero, si que conocemos la complejidad del algoritmo de fuerza bruta, que es $O(n!)$, ya que debe explorar todas las posibles soluciones."
      ],
      "metadata": {
        "id": "YZD83rbIEfEO"
      }
    },
    {
      "cell_type": "markdown",
      "source": [
        "Para calcular el número de soluciones, sabemos que tenemos 30 tomas y que cada día se pueden grabar un máximo de 6 tomas. Por lo tanto, supongamos que se requieren 5 días para completar el doblaje. Es importante destacar que el orden de las tomas dentro de cada día no importa y que no se puede elegir la misma toma más de una vez.\n",
        "\n",
        "Por lo tanto, la fórmula que tendría que usar sería:\n",
        "\n",
        "$$\n",
        "C(n+k-1, k-1) = C(30+5-1, 5-1) = C(34, 4)\n",
        "$$\n",
        "\n",
        "Esta fórmula se conoce como combinaciones con repetición y calcula el número total de formas de distribuir las 30 tomas en los 5 días.\n",
        "\n",
        "Y el resultado sería:\n",
        "\n",
        "$$\n",
        "C(34, 4) = \\frac{34!}{4!(34-4)!} = 46376\n",
        "$$"
      ],
      "metadata": {
        "id": "G68JM1JHEgIx"
      }
    },
    {
      "cell_type": "markdown",
      "source": [
        "#Diseño"
      ],
      "metadata": {
        "id": "ixEJUwH_pv7M"
      }
    },
    {
      "cell_type": "markdown",
      "source": [
        "**¿Que técnica utilizo? ¿Por qué?**\n",
        "\n",
        "El algoritmo genético se ha elegido para resolver este problema debido a varias razones clave:\n",
        "\n",
        "1. **Adaptabilidad a problemas NP-hard:** Los algoritmos genéticos dan muy buenos resultados en problemas de combinatoria complejos como este, donde la búsqueda en el espacio de soluciones es costosa.\n",
        "\n",
        "2. **Flexibilidad en la modelización:** Los AG se adaptan perfectamente al problema, representando tomas, días de rodaje y la planificación del rodaje como genes, cromosomas e individuos, respectivamente.\n",
        "\n",
        "3. **Escapatoria de óptimos locales:** Las operaciones de mutación y cruce permiten escapar de los óptimos locales, generando soluciones diversas que cumplen con las restricciones.\n",
        "\n",
        "4. **Escalabilidad y eficiencia:** Son fácilmente escalables, permitiendo ajustar parámetros como tamaño de población o generaciones según los recursos disponibles o el balance entre calidad y tiempo de cálculo."
      ],
      "metadata": {
        "id": "Yi5Dc7K_EnUD"
      }
    },
    {
      "cell_type": "code",
      "source": [
        "import random\n",
        "from google.colab import drive\n",
        "import pandas as pd\n",
        "from tabulate import tabulate\n"
      ],
      "metadata": {
        "id": "5LaymJ_JE7eE"
      },
      "execution_count": 42,
      "outputs": []
    },
    {
      "cell_type": "markdown",
      "source": [
        "De la siguiente manera cargamos los datos. No obstante, si se ejecuta desde otra cuenta, podría ocurrir un error porque los archivos están en una carpeta de mi Drive. Por eso, he optado por almacenarlos en una variable y he dejado comentada la forma en la que cargué los datos, para evitar posibles errores."
      ],
      "metadata": {
        "id": "U9rssERWUUVH"
      }
    },
    {
      "cell_type": "code",
      "source": [
        "# drive.mount('/content/drive')\n",
        "# ruta_csv = \"/content/drive/My Drive/Colab Notebooks/Trabajo AO/Problema1.csv\"\n",
        "\n",
        "# df = pd.read_csv(ruta_csv, header=None)\n",
        "# df = df.iloc[2:32, 1:11]\n",
        "# df = df.astype(int)\n",
        "\n",
        "\n",
        "# # Convertir a lista de listas\n",
        "# tomas_disponibilidad = df.values.tolist()\n",
        "\n",
        "# for fila in tomas_disponibilidad:\n",
        "#     print(fila)"
      ],
      "metadata": {
        "id": "b-sX-cVbGhDl"
      },
      "execution_count": 43,
      "outputs": []
    },
    {
      "cell_type": "code",
      "source": [
        "tomas_disponibilidad = [[1, 1, 1, 1, 1, 0, 0, 0, 0, 0],\n",
        "                        [0, 0, 1, 1, 1, 0, 0, 0, 0, 0],\n",
        "                        [0, 1, 0, 0, 1, 0, 1, 0, 0, 0],\n",
        "                        [1, 1, 0, 0, 0, 0, 1, 1, 0, 0],\n",
        "                        [0, 1, 0, 1, 0, 0, 0, 1, 0, 0],\n",
        "                        [1, 1, 0, 1, 1, 0, 0, 0, 0, 0],\n",
        "                        [1, 1, 0, 1, 1, 0, 0, 0, 0, 0],\n",
        "                        [1, 1, 0, 0, 0, 1, 0, 0, 0, 0],\n",
        "                        [1, 1, 0, 1, 0, 0, 0, 0, 0, 0],\n",
        "                        [1, 1, 0, 0, 0, 1, 0, 0, 1, 0],\n",
        "                        [1, 1, 1, 0, 1, 0, 0, 1, 0, 0],\n",
        "                        [1, 1, 1, 1, 0, 1, 0, 0, 0, 0],\n",
        "                        [1, 0, 0, 1, 1, 0, 0, 0, 0, 0],\n",
        "                        [1, 0, 1, 0, 0, 1, 0, 0, 0, 0],\n",
        "                        [1, 1, 0, 0, 0, 0, 1, 0, 0, 0],\n",
        "                        [0, 0, 0, 1, 0, 0, 0, 0, 0, 1],\n",
        "                        [1, 0, 1, 0, 0, 0, 0, 0, 0, 0],\n",
        "                        [0, 0, 1, 0, 0, 1, 0, 0, 0, 0],\n",
        "                        [1, 0, 1, 0, 0, 0, 0, 0, 0, 0],\n",
        "                        [1, 0, 1, 1, 1, 0, 0, 0, 0, 0],\n",
        "                        [0, 0, 0, 0, 0, 1, 0, 1, 0, 0],\n",
        "                        [1, 1, 1, 1, 0, 0, 0, 0, 0, 0],\n",
        "                        [1, 0, 1, 0, 0, 0, 0, 0, 0, 0],\n",
        "                        [0, 0, 1, 0, 0, 1, 0, 0, 0, 0],\n",
        "                        [1, 1, 0, 1, 0, 0, 0, 0, 0, 1],\n",
        "                        [1, 0, 1, 0, 1, 0, 0, 0, 1, 0],\n",
        "                        [0, 0, 0, 1, 1, 0, 0, 0, 0, 0],\n",
        "                        [1, 0, 0, 1, 0, 0, 0, 0, 0, 0],\n",
        "                        [1, 0, 0, 0, 1, 1, 0, 0, 0, 0],\n",
        "                        [1, 0, 0, 1, 0, 0, 0, 0, 0, 0]]\n"
      ],
      "metadata": {
        "id": "1Ogl3-GgTnJL"
      },
      "execution_count": 44,
      "outputs": []
    },
    {
      "cell_type": "code",
      "source": [
        "def verificar_completitud(individuo):\n",
        "  '''\n",
        "  Comprobamos que todas las tomas aparecen. Que esto se cumpla es equivalente a mirar que no hay tomas repetidas.\n",
        "  Esto se debe a que como el tamaño de los individuos no es modificable si están todos los numetos es que no hay\n",
        "  repeticiones ya que sino faltaria una toma.\n",
        "  '''\n",
        "  todos_los_numeros = [toma for dia in individuo for toma in dia]\n",
        "\n",
        "  if set(todos_los_numeros) == set(range(30)):\n",
        "    return True  # Todos los números están presentes\n",
        "  else:\n",
        "    return False  # Faltan algunos números"
      ],
      "metadata": {
        "id": "kh79Mje3FCL2"
      },
      "execution_count": 45,
      "outputs": []
    },
    {
      "cell_type": "code",
      "source": [
        "def generar_poblacion(lista_tomas, N):\n",
        "  poblacion = []\n",
        "  for _ in range(N):\n",
        "    solucion = []\n",
        "    random.shuffle(lista_tomas)  # Mezclar las tomas\n",
        "\n",
        "    dia_actual = []\n",
        "    for toma in lista_tomas:\n",
        "      if len(dia_actual) < 6:  # Si el día actual tiene menos de 6 tomas, lo añadimos a la lista dia_actual\n",
        "          dia_actual.append(toma)\n",
        "      else:  # Si el día tiene 6 tomas, asignar un nuevo día\n",
        "          solucion.append(dia_actual)\n",
        "          dia_actual = [toma]\n",
        "\n",
        "    if len(dia_actual) > 0: #En el caso de que el numero de tomas no sea multiplo de 6 tendremos un día \"incompleto\". En ese caso formazos la asignacion del dia\n",
        "      solucion.append(dia_actual)\n",
        "\n",
        "    poblacion.append(solucion)\n",
        "  return poblacion"
      ],
      "metadata": {
        "id": "kBaBl_FUFE_i"
      },
      "execution_count": 46,
      "outputs": []
    },
    {
      "cell_type": "code",
      "source": [
        "def evaluar_poblacion(poblacion, data):\n",
        "  mejor_solucion = None\n",
        "  mejor_distancia = float('inf')\n",
        "\n",
        "  for individuo in poblacion:\n",
        "    distancia = 0\n",
        "    tomas_vistas = set()\n",
        "\n",
        "    # Inicializamos un diccionario para contar los días de grabación por actor\n",
        "    dias_grabacion_por_actor = {actor_idx: set() for actor_idx in range(len(data[0]))}\n",
        "\n",
        "    # Evaluamos las tomas\n",
        "    for dia_idx, dia in enumerate(individuo):\n",
        "      # Ahora verificamos la disponibilidad de los actores para las tomas de este día\n",
        "      for toma in dia:\n",
        "          for actor_idx in range(len(data[0])):\n",
        "              if data[toma][actor_idx] == 1:  # Si el actor está disponible para la toma\n",
        "                  dias_grabacion_por_actor[actor_idx].add(dia_idx)  # Se agrega el día de grabación para el actor\n",
        "\n",
        "    # Penalizamos si algún actor graba en muchos días\n",
        "    for actor_idx, dias in dias_grabacion_por_actor.items():\n",
        "      dias_grabacion = len(dias)\n",
        "      # Calcular penalización proporcional a la cantidad de días de grabación\n",
        "      # Penalizamos más si graba más días.\n",
        "      penalizacion = max(0, dias_grabacion - 1)\n",
        "      distancia += penalizacion\n",
        "\n",
        "    # Comparamos y guardamos la mejor solución\n",
        "    if distancia < mejor_distancia:\n",
        "      mejor_solucion = individuo\n",
        "      mejor_distancia = distancia\n",
        "\n",
        "  return mejor_solucion, mejor_distancia"
      ],
      "metadata": {
        "id": "jM_fSMWFFHDQ"
      },
      "execution_count": 47,
      "outputs": []
    },
    {
      "cell_type": "code",
      "source": [
        "def seleccion_padres(poblacion, data):\n",
        "  poblacion_ordenada = sorted(poblacion, key=lambda x: evaluar_poblacion([x], data)[1])\n",
        "  padres = poblacion_ordenada[:2] #Nos quedamos con los dos mejores individuos\n",
        "  return padres[0], padres[1]"
      ],
      "metadata": {
        "id": "ATYbKVZEFJ7i"
      },
      "execution_count": 48,
      "outputs": []
    },
    {
      "cell_type": "code",
      "source": [
        "def Cruzar(poblacion, data, N):\n",
        "  nueva_poblacion = []\n",
        "  i = 0\n",
        "  # Mientras la nueva población no tenga el mismo tamaño que la población original\n",
        "  while i < N:\n",
        "    padre1, padre2 = seleccion_padres(poblacion, data)\n",
        "    # Seleccionar dos padres aleatorios de la población actual\n",
        "    padre1 = random.choice(poblacion)\n",
        "    padre2 = random.choice(poblacion)\n",
        "\n",
        "    # Realizamos un cruce entre dos soluciones asegurando que no haya repeticiones de tomas\n",
        "    punto_cruce = random.randint(1, min(len(padre1), len(padre2)) - 1)\n",
        "\n",
        "    # Crear los hijos a partir del cruce\n",
        "    hijo1 = padre1[:punto_cruce] + padre2[punto_cruce:]\n",
        "    hijo2 = padre2[:punto_cruce] + padre1[punto_cruce:]\n",
        "\n",
        "    if verificar_completitud(hijo1):\n",
        "      nueva_poblacion.append(hijo1)\n",
        "\n",
        "    if verificar_completitud(hijo2):\n",
        "      nueva_poblacion.append(hijo2)\n",
        "    i += 1\n",
        "  nueva_poblacion = nueva_poblacion + poblacion\n",
        "\n",
        "\n",
        "  return nueva_poblacion"
      ],
      "metadata": {
        "id": "BGvXcSRsFMAO"
      },
      "execution_count": 49,
      "outputs": []
    },
    {
      "cell_type": "code",
      "source": [
        "def Mutacion(poblacion, probabilidad_mutacion=0.15):\n",
        "  nueva_poblacion = []\n",
        "\n",
        "  for individuo in poblacion:\n",
        "    if random.random() < probabilidad_mutacion:  # Aplicar mutación con la probabilidad indicada\n",
        "      hijo = [dia.copy() for dia in individuo]  # Copiar el individuo para no modificar el original\n",
        "\n",
        "      # Elegir dos días aleatorios\n",
        "      dia_origen = random.choice(hijo)\n",
        "      dia_destino = random.choice(hijo)\n",
        "\n",
        "      # Elegir dos tomas aleatorias, una del día de origen y otra del día de destino\n",
        "      toma_origen = random.choice(dia_origen)\n",
        "      toma_destino = random.choice(dia_destino)\n",
        "\n",
        "      # Evitar que las tomas sean la misma, es decir, la misma posicion, por eso hacemos el cambio solo si son diferentes\n",
        "      if toma_origen != toma_destino:\n",
        "        # Intercambiar las tomas entre los dos días\n",
        "        dia_origen.remove(toma_origen)\n",
        "        dia_destino.remove(toma_destino)\n",
        "        dia_origen.append(toma_destino)\n",
        "        dia_destino.append(toma_origen)\n",
        "        nueva_poblacion.append(hijo)\n",
        "  nueva_poblacion = nueva_poblacion + poblacion\n",
        "  return nueva_poblacion"
      ],
      "metadata": {
        "id": "vpIcWyxiFOSu"
      },
      "execution_count": 50,
      "outputs": []
    },
    {
      "cell_type": "code",
      "source": [
        "def Seleccionar(data, poblacion, N, elitismo):\n",
        "  poblacion_ordenada = sorted(poblacion, key=lambda x: evaluar_poblacion([x], data)[1])\n",
        "  elite_size = int(elitismo * N)\n",
        "  #Seleccionamos los mejores X individuos y los demás se seleccionar aleatoriamente.\n",
        "  nueva_poblacion = poblacion_ordenada[:elite_size]\n",
        "  while len(nueva_poblacion) < N:\n",
        "    individuo = random.choice(poblacion_ordenada[elite_size:])\n",
        "    poblacion_ordenada.remove(individuo)\n",
        "    nueva_poblacion.append(individuo)\n",
        "  return nueva_poblacion"
      ],
      "metadata": {
        "id": "olixYfhdFQzr"
      },
      "execution_count": 51,
      "outputs": []
    },
    {
      "cell_type": "code",
      "source": [
        "def algoritmo_genetico(data, N=100, elitismo=0.1, mutacion=0.15, generaciones=100):\n",
        "  Tomas = list(range(len(data)))\n",
        "  poblacion = generar_poblacion(Tomas, N)\n",
        "  mejor_solucion, mejor_distancia = evaluar_poblacion(poblacion, data)\n",
        "\n",
        "  n = 1\n",
        "  while n < generaciones:\n",
        "    nueva_poblacion = Cruzar(poblacion, data, N)\n",
        "\n",
        "    nueva_poblacion = Mutacion(nueva_poblacion, probabilidad_mutacion=mutacion)\n",
        "\n",
        "    # Selección de N individuos\n",
        "    poblacion = Seleccionar(data, nueva_poblacion, N, elitismo)\n",
        "\n",
        "    mejor_solucion, mejor_distancia = evaluar_poblacion(poblacion, data)\n",
        "\n",
        "    print(f\"Generación #{n}\\nMejor solución: {mejor_solucion}\\nCon distancia: {mejor_distancia}\\n\")\n",
        "\n",
        "    n += 1\n",
        "\n",
        "  return mejor_solucion, mejor_distancia"
      ],
      "metadata": {
        "id": "7GBmagTxFSzG"
      },
      "execution_count": 52,
      "outputs": []
    },
    {
      "cell_type": "code",
      "source": [
        "# Ejecutar el algoritmo genético con los datos\n",
        "mejor_solucion, mejor_distancia = algoritmo_genetico(tomas_disponibilidad, N=50, elitismo=0.1, mutacion=0.15, generaciones=50)"
      ],
      "metadata": {
        "colab": {
          "base_uri": "https://localhost:8080/"
        },
        "id": "4wsSTTyNFUz2",
        "outputId": "68eb0c74-f3f7-45b3-b419-c4ea16c195ca"
      },
      "execution_count": 53,
      "outputs": [
        {
          "output_type": "stream",
          "name": "stdout",
          "text": [
            "Generación #1\n",
            "Mejor solución: [[9, 14, 15, 29, 17, 24], [1, 19, 22, 18, 8, 5], [11, 7, 10, 4, 3, 0], [23, 20, 13, 12, 28, 26], [21, 25, 2, 16, 6, 27]]\n",
            "Con distancia: 24\n",
            "\n",
            "Generación #2\n",
            "Mejor solución: [[9, 14, 15, 29, 17, 24], [1, 19, 22, 18, 8, 5], [11, 7, 10, 4, 3, 0], [23, 20, 13, 12, 28, 26], [21, 25, 2, 16, 6, 27]]\n",
            "Con distancia: 24\n",
            "\n",
            "Generación #3\n",
            "Mejor solución: [[9, 14, 15, 29, 17, 24], [1, 19, 22, 18, 8, 5], [11, 7, 10, 4, 3, 0], [23, 20, 13, 12, 28, 26], [21, 25, 2, 16, 6, 27]]\n",
            "Con distancia: 24\n",
            "\n",
            "Generación #4\n",
            "Mejor solución: [[9, 14, 15, 29, 17, 24], [1, 19, 22, 18, 8, 5], [11, 7, 10, 4, 3, 0], [23, 20, 13, 12, 28, 26], [21, 25, 2, 16, 6, 27]]\n",
            "Con distancia: 24\n",
            "\n",
            "Generación #5\n",
            "Mejor solución: [[9, 14, 15, 29, 17, 24], [1, 19, 22, 18, 8, 5], [11, 7, 10, 4, 3, 0], [23, 20, 13, 12, 28, 26], [21, 25, 2, 16, 6, 27]]\n",
            "Con distancia: 24\n",
            "\n",
            "Generación #6\n",
            "Mejor solución: [[9, 14, 15, 29, 17, 24], [1, 19, 22, 18, 8, 5], [11, 7, 10, 4, 3, 0], [23, 20, 13, 12, 28, 26], [21, 25, 2, 16, 6, 27]]\n",
            "Con distancia: 24\n",
            "\n",
            "Generación #7\n",
            "Mejor solución: [[9, 14, 15, 29, 17, 24], [1, 19, 22, 18, 8, 5], [11, 7, 10, 4, 3, 0], [23, 20, 13, 12, 28, 26], [21, 25, 2, 16, 6, 27]]\n",
            "Con distancia: 24\n",
            "\n",
            "Generación #8\n",
            "Mejor solución: [[9, 14, 15, 29, 17, 24], [1, 19, 22, 18, 8, 5], [11, 7, 10, 4, 3, 0], [23, 20, 13, 12, 28, 26], [21, 25, 2, 16, 6, 27]]\n",
            "Con distancia: 24\n",
            "\n",
            "Generación #9\n",
            "Mejor solución: [[9, 14, 15, 29, 17, 24], [1, 19, 22, 18, 8, 5], [11, 7, 10, 4, 3, 0], [23, 20, 13, 12, 28, 26], [21, 25, 2, 16, 6, 27]]\n",
            "Con distancia: 24\n",
            "\n",
            "Generación #10\n",
            "Mejor solución: [[9, 14, 15, 29, 17, 24], [1, 19, 22, 18, 8, 5], [11, 7, 10, 4, 3, 0], [23, 20, 13, 12, 28, 26], [21, 25, 2, 16, 6, 27]]\n",
            "Con distancia: 24\n",
            "\n",
            "Generación #11\n",
            "Mejor solución: [[9, 14, 15, 29, 17, 24], [1, 19, 22, 18, 8, 5], [11, 7, 10, 4, 3, 0], [23, 20, 13, 12, 28, 26], [21, 25, 2, 16, 6, 27]]\n",
            "Con distancia: 24\n",
            "\n",
            "Generación #12\n",
            "Mejor solución: [[9, 14, 15, 29, 17, 24], [1, 19, 22, 18, 8, 5], [11, 7, 10, 4, 3, 0], [23, 20, 13, 12, 28, 26], [21, 25, 2, 16, 6, 27]]\n",
            "Con distancia: 24\n",
            "\n",
            "Generación #13\n",
            "Mejor solución: [[9, 14, 15, 29, 17, 24], [1, 19, 22, 18, 8, 5], [11, 7, 10, 4, 3, 0], [23, 20, 13, 12, 28, 26], [21, 25, 2, 16, 6, 27]]\n",
            "Con distancia: 24\n",
            "\n",
            "Generación #14\n",
            "Mejor solución: [[9, 14, 15, 29, 17, 24], [1, 19, 22, 18, 8, 5], [11, 7, 10, 4, 3, 0], [23, 20, 13, 12, 28, 26], [21, 25, 2, 16, 6, 27]]\n",
            "Con distancia: 24\n",
            "\n",
            "Generación #15\n",
            "Mejor solución: [[9, 14, 15, 29, 17, 24], [1, 19, 22, 18, 8, 5], [11, 7, 10, 4, 3, 0], [23, 20, 13, 12, 28, 26], [21, 25, 2, 16, 6, 27]]\n",
            "Con distancia: 24\n",
            "\n",
            "Generación #16\n",
            "Mejor solución: [[9, 14, 15, 17, 24, 27], [1, 19, 22, 18, 8, 5], [11, 7, 10, 4, 3, 0], [23, 20, 13, 12, 28, 26], [21, 25, 2, 16, 6, 29]]\n",
            "Con distancia: 24\n",
            "\n",
            "Generación #17\n",
            "Mejor solución: [[9, 14, 15, 17, 24, 27], [1, 19, 22, 8, 5, 25], [11, 7, 10, 4, 3, 0], [23, 20, 13, 12, 28, 26], [21, 2, 16, 6, 29, 18]]\n",
            "Con distancia: 24\n",
            "\n",
            "Generación #18\n",
            "Mejor solución: [[9, 14, 15, 17, 24, 27], [1, 19, 22, 8, 5, 25], [11, 7, 10, 4, 3, 0], [23, 20, 13, 12, 28, 26], [21, 2, 16, 6, 29, 18]]\n",
            "Con distancia: 24\n",
            "\n",
            "Generación #19\n",
            "Mejor solución: [[9, 14, 15, 17, 24, 27], [1, 19, 22, 8, 5, 25], [11, 7, 10, 4, 3, 0], [23, 20, 13, 12, 28, 26], [21, 2, 16, 6, 29, 18]]\n",
            "Con distancia: 24\n",
            "\n",
            "Generación #20\n",
            "Mejor solución: [[9, 14, 15, 17, 24, 27], [1, 19, 22, 8, 5, 25], [11, 7, 10, 4, 3, 0], [23, 12, 28, 26, 20, 13], [21, 2, 16, 6, 29, 18]]\n",
            "Con distancia: 24\n",
            "\n",
            "Generación #21\n",
            "Mejor solución: [[9, 14, 15, 17, 24, 27], [1, 19, 22, 8, 5, 25], [11, 7, 10, 4, 3, 0], [23, 12, 28, 26, 20, 13], [21, 2, 16, 6, 29, 18]]\n",
            "Con distancia: 24\n",
            "\n",
            "Generación #22\n",
            "Mejor solución: [[13, 17, 9, 11, 25, 12], [26, 20, 6, 7, 23, 10], [8, 22, 18, 21, 1, 27], [14, 24, 16, 0, 2, 15], [29, 5, 4, 28, 19, 3]]\n",
            "Con distancia: 24\n",
            "\n",
            "Generación #23\n",
            "Mejor solución: [[13, 17, 9, 11, 25, 12], [26, 20, 6, 7, 23, 10], [8, 22, 18, 21, 1, 27], [14, 24, 16, 0, 2, 15], [29, 5, 4, 28, 19, 3]]\n",
            "Con distancia: 24\n",
            "\n",
            "Generación #24\n",
            "Mejor solución: [[13, 17, 9, 11, 25, 12], [26, 20, 6, 7, 23, 10], [8, 22, 18, 21, 1, 27], [14, 24, 16, 0, 2, 15], [29, 5, 4, 28, 19, 3]]\n",
            "Con distancia: 24\n",
            "\n",
            "Generación #25\n",
            "Mejor solución: [[9, 14, 15, 17, 24, 27], [1, 19, 22, 18, 8, 5], [11, 7, 10, 4, 0, 16], [23, 20, 13, 12, 28, 26], [21, 25, 2, 6, 29, 3]]\n",
            "Con distancia: 24\n",
            "\n",
            "Generación #26\n",
            "Mejor solución: [[9, 14, 15, 17, 24, 27], [1, 19, 22, 18, 8, 5], [11, 7, 10, 4, 0, 16], [23, 20, 13, 12, 28, 26], [21, 25, 2, 6, 29, 3]]\n",
            "Con distancia: 24\n",
            "\n",
            "Generación #27\n",
            "Mejor solución: [[9, 14, 15, 17, 24, 27], [1, 19, 22, 18, 8, 5], [11, 7, 10, 4, 0, 16], [23, 20, 13, 12, 28, 26], [21, 25, 2, 6, 29, 3]]\n",
            "Con distancia: 24\n",
            "\n",
            "Generación #28\n",
            "Mejor solución: [[13, 17, 9, 11, 25, 12], [26, 20, 6, 7, 23, 10], [8, 22, 18, 21, 1, 27], [14, 24, 16, 0, 2, 15], [29, 5, 4, 28, 19, 3]]\n",
            "Con distancia: 24\n",
            "\n",
            "Generación #29\n",
            "Mejor solución: [[13, 17, 9, 11, 25, 12], [26, 20, 6, 7, 23, 10], [8, 22, 18, 21, 1, 27], [14, 24, 16, 0, 2, 15], [29, 5, 4, 28, 19, 3]]\n",
            "Con distancia: 24\n",
            "\n",
            "Generación #30\n",
            "Mejor solución: [[13, 17, 9, 11, 25, 12], [26, 20, 6, 7, 23, 10], [8, 22, 18, 21, 1, 27], [14, 24, 16, 0, 2, 15], [29, 5, 4, 28, 19, 3]]\n",
            "Con distancia: 24\n",
            "\n",
            "Generación #31\n",
            "Mejor solución: [[9, 15, 17, 24, 27, 29], [1, 19, 22, 18, 8, 5], [11, 7, 10, 4, 0, 16], [23, 20, 13, 12, 28, 26], [21, 25, 2, 6, 3, 14]]\n",
            "Con distancia: 23\n",
            "\n",
            "Generación #32\n",
            "Mejor solución: [[9, 15, 17, 24, 27, 29], [1, 19, 22, 18, 8, 5], [11, 7, 10, 4, 0, 16], [23, 20, 13, 12, 28, 26], [21, 25, 2, 6, 3, 14]]\n",
            "Con distancia: 23\n",
            "\n",
            "Generación #33\n",
            "Mejor solución: [[9, 15, 17, 24, 27, 29], [1, 19, 22, 18, 8, 5], [11, 7, 10, 4, 0, 16], [23, 20, 13, 12, 28, 26], [21, 25, 2, 6, 3, 14]]\n",
            "Con distancia: 23\n",
            "\n",
            "Generación #34\n",
            "Mejor solución: [[9, 15, 17, 24, 27, 29], [1, 19, 22, 18, 8, 5], [11, 7, 10, 4, 0, 16], [23, 20, 13, 12, 28, 26], [21, 25, 2, 6, 3, 14]]\n",
            "Con distancia: 23\n",
            "\n",
            "Generación #35\n",
            "Mejor solución: [[9, 15, 17, 24, 27, 29], [1, 19, 22, 18, 8, 5], [11, 7, 10, 4, 0, 16], [23, 20, 13, 12, 28, 26], [21, 25, 2, 6, 3, 14]]\n",
            "Con distancia: 23\n",
            "\n",
            "Generación #36\n",
            "Mejor solución: [[9, 15, 17, 24, 27, 29], [1, 19, 22, 18, 8, 5], [11, 7, 10, 4, 0, 16], [23, 20, 13, 12, 28, 26], [21, 25, 2, 6, 3, 14]]\n",
            "Con distancia: 23\n",
            "\n",
            "Generación #37\n",
            "Mejor solución: [[9, 15, 17, 24, 27, 29], [1, 19, 22, 18, 8, 5], [11, 7, 10, 4, 0, 16], [23, 20, 13, 12, 28, 26], [21, 25, 2, 6, 3, 14]]\n",
            "Con distancia: 23\n",
            "\n",
            "Generación #38\n",
            "Mejor solución: [[9, 15, 17, 24, 27, 29], [1, 19, 22, 18, 8, 5], [11, 7, 10, 4, 0, 16], [23, 13, 12, 28, 26, 20], [21, 25, 2, 6, 3, 14]]\n",
            "Con distancia: 23\n",
            "\n",
            "Generación #39\n",
            "Mejor solución: [[9, 15, 17, 24, 27, 29], [1, 19, 22, 18, 8, 5], [11, 4, 0, 16, 10, 7], [23, 13, 12, 28, 26, 20], [21, 25, 2, 6, 3, 14]]\n",
            "Con distancia: 23\n",
            "\n",
            "Generación #40\n",
            "Mejor solución: [[9, 15, 17, 24, 27, 29], [1, 19, 22, 18, 8, 5], [11, 7, 10, 4, 0, 16], [23, 20, 13, 12, 28, 26], [21, 25, 2, 6, 3, 14]]\n",
            "Con distancia: 23\n",
            "\n",
            "Generación #41\n",
            "Mejor solución: [[9, 15, 17, 24, 27, 29], [1, 19, 22, 18, 8, 5], [11, 7, 10, 4, 0, 16], [23, 20, 13, 12, 28, 26], [21, 25, 2, 6, 3, 14]]\n",
            "Con distancia: 23\n",
            "\n",
            "Generación #42\n",
            "Mejor solución: [[9, 15, 17, 24, 27, 29], [1, 19, 22, 18, 8, 5], [4, 16, 10, 7, 11, 0], [23, 13, 12, 28, 26, 20], [21, 25, 2, 6, 3, 14]]\n",
            "Con distancia: 23\n",
            "\n",
            "Generación #43\n",
            "Mejor solución: [[9, 15, 17, 24, 29, 13], [1, 19, 22, 18, 8, 5], [11, 7, 10, 4, 0, 16], [23, 20, 12, 28, 26, 27], [21, 25, 2, 6, 3, 14]]\n",
            "Con distancia: 23\n",
            "\n",
            "Generación #44\n",
            "Mejor solución: [[9, 15, 17, 24, 27, 29], [1, 19, 22, 18, 8, 5], [11, 7, 10, 4, 0, 16], [23, 20, 13, 12, 28, 26], [21, 25, 2, 6, 3, 14]]\n",
            "Con distancia: 23\n",
            "\n",
            "Generación #45\n",
            "Mejor solución: [[9, 15, 17, 24, 27, 29], [1, 19, 22, 18, 8, 5], [11, 7, 10, 4, 0, 16], [23, 20, 13, 12, 28, 26], [21, 25, 2, 6, 3, 14]]\n",
            "Con distancia: 23\n",
            "\n",
            "Generación #46\n",
            "Mejor solución: [[9, 15, 17, 24, 27, 29], [1, 19, 22, 18, 8, 5], [11, 7, 10, 4, 0, 16], [23, 20, 13, 12, 28, 26], [21, 25, 2, 6, 3, 14]]\n",
            "Con distancia: 23\n",
            "\n",
            "Generación #47\n",
            "Mejor solución: [[9, 15, 17, 24, 27, 29], [1, 19, 22, 18, 8, 5], [11, 7, 10, 4, 0, 16], [23, 20, 13, 12, 28, 26], [21, 25, 2, 6, 3, 14]]\n",
            "Con distancia: 23\n",
            "\n",
            "Generación #48\n",
            "Mejor solución: [[9, 15, 17, 24, 27, 29], [1, 19, 22, 18, 8, 5], [11, 7, 10, 4, 0, 16], [23, 20, 13, 12, 28, 26], [21, 25, 2, 6, 3, 14]]\n",
            "Con distancia: 23\n",
            "\n",
            "Generación #49\n",
            "Mejor solución: [[9, 15, 17, 24, 29, 13], [1, 19, 22, 18, 5, 6], [11, 7, 10, 4, 0, 16], [23, 20, 12, 28, 26, 27], [21, 25, 2, 3, 14, 8]]\n",
            "Con distancia: 23\n",
            "\n"
          ]
        }
      ]
    },
    {
      "cell_type": "code",
      "source": [
        "dias = [f\"Día {i+1}\" for i in range(len(mejor_solucion))]\n",
        "tabla = tabulate(mejor_solucion, headers=[\"Grabación 1\", \"Grabación 2\", \"Grabación 3\", \"Grabación 4\", \"Grabación 5\", \"Grabación 6\"], showindex=dias, tablefmt=\"grid\")\n",
        "\n",
        "# Mostrar tabla\n",
        "print(tabla)"
      ],
      "metadata": {
        "colab": {
          "base_uri": "https://localhost:8080/"
        },
        "id": "9zUtiWISOXje",
        "outputId": "7294dc3f-3f33-44ff-8126-56306e55fe30"
      },
      "execution_count": 54,
      "outputs": [
        {
          "output_type": "stream",
          "name": "stdout",
          "text": [
            "+-------+---------------+---------------+---------------+---------------+---------------+---------------+\n",
            "|       |   Grabación 1 |   Grabación 2 |   Grabación 3 |   Grabación 4 |   Grabación 5 |   Grabación 6 |\n",
            "+=======+===============+===============+===============+===============+===============+===============+\n",
            "| Día 1 |             9 |            15 |            17 |            24 |            29 |            13 |\n",
            "+-------+---------------+---------------+---------------+---------------+---------------+---------------+\n",
            "| Día 2 |             1 |            19 |            22 |            18 |             5 |             6 |\n",
            "+-------+---------------+---------------+---------------+---------------+---------------+---------------+\n",
            "| Día 3 |            11 |             7 |            10 |             4 |             0 |            16 |\n",
            "+-------+---------------+---------------+---------------+---------------+---------------+---------------+\n",
            "| Día 4 |            23 |            20 |            12 |            28 |            26 |            27 |\n",
            "+-------+---------------+---------------+---------------+---------------+---------------+---------------+\n",
            "| Día 5 |            21 |            25 |             2 |             3 |            14 |             8 |\n",
            "+-------+---------------+---------------+---------------+---------------+---------------+---------------+\n"
          ]
        }
      ]
    }
  ]
}